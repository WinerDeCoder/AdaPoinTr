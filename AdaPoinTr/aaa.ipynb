{
 "cells": [
  {
   "cell_type": "code",
   "execution_count": 1,
   "metadata": {},
   "outputs": [
    {
     "name": "stdout",
     "output_type": "stream",
     "text": [
      "tensor([[-1.,  0.,  1., -1.,  0.,  1., -1.,  0.,  1.]])\n",
      "torch.Size([1, 9])\n"
     ]
    }
   ],
   "source": [
    "import torch\n",
    "from torch import nn\n",
    "\n",
    "step =3\n",
    "\n",
    "a = torch.linspace(-1., 1., steps=step, dtype=torch.float).view(1, step).expand(step, step).reshape(1, -1)\n",
    "b = torch.linspace(-1., 1., steps=step, dtype=torch.float).view(step, 1).expand(step, step).reshape(1, -1)\n",
    "c= torch.cat([a, b], dim=0).cuda()\n",
    "\n",
    "print(a)\n",
    "print(a.shape)"
   ]
  },
  {
   "cell_type": "code",
   "execution_count": 2,
   "metadata": {},
   "outputs": [
    {
     "name": "stdout",
     "output_type": "stream",
     "text": [
      "tensor([[-1., -1., -1.,  0.,  0.,  0.,  1.,  1.,  1.]])\n",
      "torch.Size([1, 9])\n"
     ]
    }
   ],
   "source": [
    "print(b)\n",
    "print(b.shape)"
   ]
  },
  {
   "cell_type": "code",
   "execution_count": 3,
   "metadata": {},
   "outputs": [
    {
     "name": "stdout",
     "output_type": "stream",
     "text": [
      "tensor([[-1.,  0.,  1., -1.,  0.,  1., -1.,  0.,  1.],\n",
      "        [-1., -1., -1.,  0.,  0.,  0.,  1.,  1.,  1.]], device='cuda:0')\n",
      "torch.Size([2, 9])\n"
     ]
    }
   ],
   "source": [
    "print(c)\n",
    "print(c.shape)"
   ]
  },
  {
   "cell_type": "code",
   "execution_count": 4,
   "metadata": {},
   "outputs": [
    {
     "name": "stdout",
     "output_type": "stream",
     "text": [
      "torch.Size([3, 8])\n"
     ]
    }
   ],
   "source": [
    "model = nn.Conv1d(2, 3, 2)\n",
    "c = torch.randn(2,9)\n",
    "\n",
    "print(model(c).shape)"
   ]
  },
  {
   "cell_type": "code",
   "execution_count": 5,
   "metadata": {},
   "outputs": [],
   "source": [
    "in_channel = 6\n",
    "hidden_dim = 20\n",
    "\n",
    "a = nn.Sequential(\n",
    "            nn.Conv1d(in_channel + 2, hidden_dim, 1),\n",
    "            nn.BatchNorm1d(hidden_dim),\n",
    "            nn.ReLU(inplace=True),\n",
    "            nn.Conv1d(hidden_dim, hidden_dim//2, 1),\n",
    "            nn.BatchNorm1d(hidden_dim//2),\n",
    "            nn.ReLU(inplace=True),\n",
    "            nn.Conv1d(hidden_dim//2, 3, 1),\n",
    "        )"
   ]
  },
  {
   "cell_type": "code",
   "execution_count": 6,
   "metadata": {},
   "outputs": [
    {
     "name": "stdout",
     "output_type": "stream",
     "text": [
      "torch.Size([44, 3, 20])\n"
     ]
    }
   ],
   "source": [
    "c = torch.randn(44,8,20)\n",
    "v = a(c)\n",
    "print(v.shape)"
   ]
  },
  {
   "cell_type": "code",
   "execution_count": 7,
   "metadata": {},
   "outputs": [
    {
     "name": "stdout",
     "output_type": "stream",
     "text": [
      "fold_step:  8\n"
     ]
    }
   ],
   "source": [
    "# Qua PoinTr\n",
    "trans_dim = 384\n",
    "knn_layer = 1\n",
    "num_pred = 14336\n",
    "num_query = 224\n",
    "\n",
    "fold_step = int(pow(num_pred//num_query, 0.5) + 0.5)\n",
    "print(\"fold_step: \", fold_step)"
   ]
  },
  {
   "cell_type": "code",
   "execution_count": 8,
   "metadata": {},
   "outputs": [
    {
     "name": "stdout",
     "output_type": "stream",
     "text": [
      "torch.Size([2, 4, 3])\n"
     ]
    }
   ],
   "source": [
    "a = torch.randn(2,3,4)\n",
    "a = a.transpose(-1,-2)\n",
    "print(a.shape)"
   ]
  },
  {
   "cell_type": "code",
   "execution_count": 9,
   "metadata": {},
   "outputs": [],
   "source": [
    "bs = 10\n",
    "c = 3\n",
    "n = 20"
   ]
  },
  {
   "cell_type": "code",
   "execution_count": 10,
   "metadata": {},
   "outputs": [
    {
     "name": "stdout",
     "output_type": "stream",
     "text": [
      "torch.Size([10, 8, 20])\n"
     ]
    }
   ],
   "source": [
    "coor_q = torch.randn(bs,c,n)\n",
    "x = torch.randn(bs,8,n)\n",
    "model = nn.Conv1d(3,8,1)\n",
    "b = model(coor_q)\n",
    "print(b.shape)"
   ]
  },
  {
   "cell_type": "code",
   "execution_count": 11,
   "metadata": {},
   "outputs": [],
   "source": [
    "def knn_point(nsample, xyz, new_xyz):\n",
    "    \"\"\"\n",
    "    Input:\n",
    "        nsample: max sample number in local region     k =  16\n",
    "        xyz: all points, [B, N, C]      B, N, 3\n",
    "        new_xyz: query points, [B, S, C]         B, N, 3\n",
    "    Return:\n",
    "        group_idx: grouped points index, [B, S, nsample]\n",
    "    \"\"\"\n",
    "    sqrdists = square_distance(new_xyz, xyz)\n",
    "    print(\"sqrdists.shape\",sqrdists.shape)\n",
    "    _, group_idx = torch.topk(sqrdists, nsample, dim = -1, largest=False, sorted=False)\n",
    "    return group_idx\n",
    "\n",
    "def square_distance(src, dst):\n",
    "    \"\"\"\n",
    "    Calculate Euclid distance between each two points.\n",
    "    src^T * dst = xn * xm + yn * ym + zn * zm\n",
    "    sum(src^2, dim=-1) = xn*xn + yn*yn + zn*zn;\n",
    "    sum(dst^2, dim=-1) = xm*xm + ym*ym + zm*zm;\n",
    "    dist = (xn - xm)^2 + (yn - ym)^2 + (zn - zm)^2\n",
    "         = sum(src**2,dim=-1)+sum(dst**2,dim=-1)-2*src^T*dst\n",
    "    Input:\n",
    "        src: source points, [B, N, C]\n",
    "        dst: target points, [B, M, C]\n",
    "    Output:\n",
    "        dist: per-point square distance, [B, N, M]\n",
    "    \"\"\"\n",
    "    B, N, _ = src.shape\n",
    "    _, M, _ = dst.shape\n",
    "    dist = -2 * torch.matmul(src, dst.permute(0, 2, 1))\n",
    "    dist += torch.sum(src ** 2, -1).view(B, N, 1)\n",
    "    dist += torch.sum(dst ** 2, -1).view(B, 1, M)\n",
    "    return dist"
   ]
  },
  {
   "cell_type": "code",
   "execution_count": 12,
   "metadata": {},
   "outputs": [
    {
     "name": "stdout",
     "output_type": "stream",
     "text": [
      "sqrdists.shape torch.Size([10, 20, 20])\n",
      "torch.Size([10, 16, 20])\n"
     ]
    }
   ],
   "source": [
    "idx = knn_point(16, coor_q.transpose(-1,-2).contiguous(),coor_q.transpose(-1,-2).contiguous())\n",
    "idx = idx.transpose(-1,-2).contiguous()\n",
    "print(idx.shape)\n",
    "\n",
    "# from C = 10,30,3 -------> 10,30,16"
   ]
  },
  {
   "cell_type": "code",
   "execution_count": 13,
   "metadata": {},
   "outputs": [
    {
     "name": "stdout",
     "output_type": "stream",
     "text": [
      "tensor([[ 0,  1,  2,  3,  4,  5,  6,  7,  8,  9, 10, 11, 12, 13, 14, 15, 16, 17,\n",
      "         18, 19],\n",
      "        [11,  5, 19,  8, 18,  1,  1, 19,  3, 13, 13,  0,  3, 10,  5,  8,  1, 13,\n",
      "          4, 14],\n",
      "        [ 2, 14, 13, 19, 16, 14,  5, 14, 11, 10,  9,  2,  6, 17,  1,  3,  5, 10,\n",
      "         10,  2],\n",
      "        [17, 16,  5, 11, 14, 19, 16,  3,  0, 16, 17,  3,  2,  9, 19, 11,  9,  9,\n",
      "         16,  3],\n",
      "        [ 3, 19, 11,  2,  5, 16,  9,  5, 19,  2, 18, 19, 19,  2,  7,  7, 14,  2,\n",
      "         13,  7],\n",
      "        [19,  2,  1,  7,  1,  2,  2, 11,  7, 17,  2,  8,  8, 19,  2,  0, 18,  0,\n",
      "          9,  5],\n",
      "        [ 8,  6,  0, 14, 10,  7, 12,  2,  2,  1, 16,  7,  1, 11, 16, 19, 10, 11,\n",
      "         14,  1],\n",
      "        [13,  9,  9,  0,  7,  6, 14, 13, 12,  5, 19, 13,  5,  7,  3,  2, 13, 19,\n",
      "          7, 11],\n",
      "        [ 7,  7, 17, 12, 13,  9, 19,  1, 15,  6,  5, 17,  0,  5, 13, 14,  6,  1,\n",
      "          5, 13],\n",
      "        [10, 13, 14,  5,  9, 13, 13, 10, 14, 19,  7, 14, 11, 16,  9, 12,  2,  5,\n",
      "          1,  0],\n",
      "        [12,  3,  3,  1, 19,  3,  3,  8,  5, 14,  1, 10, 14,  1, 11,  5, 19,  7,\n",
      "         19,  8],\n",
      "        [ 9, 10, 10, 13,  2, 10, 17,  0,  1, 18, 14,  5,  9, 18, 10, 13,  4, 16,\n",
      "          2, 10],\n",
      "        [ 5, 12,  7, 17,  6, 11, 10, 16, 13,  0, 11,  1,  7, 14,  6,  1,  7, 14,\n",
      "         17,  9],\n",
      "        [14, 11, 16,  6, 17, 12,  0, 18, 17, 11,  0,  9, 16,  0, 18, 17, 17,  3,\n",
      "         11, 16],\n",
      "        [ 1, 18,  6,  9,  3, 18, 11,  9, 10,  7,  6, 12, 13,  3,  8, 10,  3, 18,\n",
      "          6, 12],\n",
      "        [ 6, 17, 12, 10, 11, 17,  7, 17,  9,  3,  3, 16, 17,  6, 12,  9, 11,  6,\n",
      "          3, 17]])\n"
     ]
    }
   ],
   "source": [
    "print(idx[0])"
   ]
  },
  {
   "cell_type": "code",
   "execution_count": 14,
   "metadata": {},
   "outputs": [
    {
     "name": "stdout",
     "output_type": "stream",
     "text": [
      "tensor([[[  0]],\n",
      "\n",
      "        [[ 20]],\n",
      "\n",
      "        [[ 40]],\n",
      "\n",
      "        [[ 60]],\n",
      "\n",
      "        [[ 80]],\n",
      "\n",
      "        [[100]],\n",
      "\n",
      "        [[120]],\n",
      "\n",
      "        [[140]],\n",
      "\n",
      "        [[160]],\n",
      "\n",
      "        [[180]]])\n"
     ]
    }
   ],
   "source": [
    "idx_base = torch.arange(0, bs).view(-1,1,1) * n\n",
    "print(idx_base)\n"
   ]
  },
  {
   "cell_type": "code",
   "execution_count": 15,
   "metadata": {},
   "outputs": [
    {
     "name": "stdout",
     "output_type": "stream",
     "text": [
      "tensor([[ 0,  1,  2,  3,  4,  5,  6,  7,  8,  9, 10, 11, 12, 13, 14, 15, 16, 17,\n",
      "         18, 19],\n",
      "        [11,  5, 19,  8, 18,  1,  1, 19,  3, 13, 13,  0,  3, 10,  5,  8,  1, 13,\n",
      "          4, 14],\n",
      "        [ 2, 14, 13, 19, 16, 14,  5, 14, 11, 10,  9,  2,  6, 17,  1,  3,  5, 10,\n",
      "         10,  2],\n",
      "        [17, 16,  5, 11, 14, 19, 16,  3,  0, 16, 17,  3,  2,  9, 19, 11,  9,  9,\n",
      "         16,  3],\n",
      "        [ 3, 19, 11,  2,  5, 16,  9,  5, 19,  2, 18, 19, 19,  2,  7,  7, 14,  2,\n",
      "         13,  7],\n",
      "        [19,  2,  1,  7,  1,  2,  2, 11,  7, 17,  2,  8,  8, 19,  2,  0, 18,  0,\n",
      "          9,  5],\n",
      "        [ 8,  6,  0, 14, 10,  7, 12,  2,  2,  1, 16,  7,  1, 11, 16, 19, 10, 11,\n",
      "         14,  1],\n",
      "        [13,  9,  9,  0,  7,  6, 14, 13, 12,  5, 19, 13,  5,  7,  3,  2, 13, 19,\n",
      "          7, 11],\n",
      "        [ 7,  7, 17, 12, 13,  9, 19,  1, 15,  6,  5, 17,  0,  5, 13, 14,  6,  1,\n",
      "          5, 13],\n",
      "        [10, 13, 14,  5,  9, 13, 13, 10, 14, 19,  7, 14, 11, 16,  9, 12,  2,  5,\n",
      "          1,  0],\n",
      "        [12,  3,  3,  1, 19,  3,  3,  8,  5, 14,  1, 10, 14,  1, 11,  5, 19,  7,\n",
      "         19,  8],\n",
      "        [ 9, 10, 10, 13,  2, 10, 17,  0,  1, 18, 14,  5,  9, 18, 10, 13,  4, 16,\n",
      "          2, 10],\n",
      "        [ 5, 12,  7, 17,  6, 11, 10, 16, 13,  0, 11,  1,  7, 14,  6,  1,  7, 14,\n",
      "         17,  9],\n",
      "        [14, 11, 16,  6, 17, 12,  0, 18, 17, 11,  0,  9, 16,  0, 18, 17, 17,  3,\n",
      "         11, 16],\n",
      "        [ 1, 18,  6,  9,  3, 18, 11,  9, 10,  7,  6, 12, 13,  3,  8, 10,  3, 18,\n",
      "          6, 12],\n",
      "        [ 6, 17, 12, 10, 11, 17,  7, 17,  9,  3,  3, 16, 17,  6, 12,  9, 11,  6,\n",
      "          3, 17]])\n"
     ]
    }
   ],
   "source": [
    "print(idx[0])"
   ]
  },
  {
   "cell_type": "code",
   "execution_count": 16,
   "metadata": {},
   "outputs": [
    {
     "name": "stdout",
     "output_type": "stream",
     "text": [
      "torch.Size([10, 16, 20])\n",
      "tensor([[ 0,  1,  2,  3,  4,  5,  6,  7,  8,  9, 10, 11, 12, 13, 14, 15, 16, 17,\n",
      "         18, 19],\n",
      "        [11,  5, 19,  8, 18,  1,  1, 19,  3, 13, 13,  0,  3, 10,  5,  8,  1, 13,\n",
      "          4, 14],\n",
      "        [ 2, 14, 13, 19, 16, 14,  5, 14, 11, 10,  9,  2,  6, 17,  1,  3,  5, 10,\n",
      "         10,  2],\n",
      "        [17, 16,  5, 11, 14, 19, 16,  3,  0, 16, 17,  3,  2,  9, 19, 11,  9,  9,\n",
      "         16,  3],\n",
      "        [ 3, 19, 11,  2,  5, 16,  9,  5, 19,  2, 18, 19, 19,  2,  7,  7, 14,  2,\n",
      "         13,  7],\n",
      "        [19,  2,  1,  7,  1,  2,  2, 11,  7, 17,  2,  8,  8, 19,  2,  0, 18,  0,\n",
      "          9,  5],\n",
      "        [ 8,  6,  0, 14, 10,  7, 12,  2,  2,  1, 16,  7,  1, 11, 16, 19, 10, 11,\n",
      "         14,  1],\n",
      "        [13,  9,  9,  0,  7,  6, 14, 13, 12,  5, 19, 13,  5,  7,  3,  2, 13, 19,\n",
      "          7, 11],\n",
      "        [ 7,  7, 17, 12, 13,  9, 19,  1, 15,  6,  5, 17,  0,  5, 13, 14,  6,  1,\n",
      "          5, 13],\n",
      "        [10, 13, 14,  5,  9, 13, 13, 10, 14, 19,  7, 14, 11, 16,  9, 12,  2,  5,\n",
      "          1,  0],\n",
      "        [12,  3,  3,  1, 19,  3,  3,  8,  5, 14,  1, 10, 14,  1, 11,  5, 19,  7,\n",
      "         19,  8],\n",
      "        [ 9, 10, 10, 13,  2, 10, 17,  0,  1, 18, 14,  5,  9, 18, 10, 13,  4, 16,\n",
      "          2, 10],\n",
      "        [ 5, 12,  7, 17,  6, 11, 10, 16, 13,  0, 11,  1,  7, 14,  6,  1,  7, 14,\n",
      "         17,  9],\n",
      "        [14, 11, 16,  6, 17, 12,  0, 18, 17, 11,  0,  9, 16,  0, 18, 17, 17,  3,\n",
      "         11, 16],\n",
      "        [ 1, 18,  6,  9,  3, 18, 11,  9, 10,  7,  6, 12, 13,  3,  8, 10,  3, 18,\n",
      "          6, 12],\n",
      "        [ 6, 17, 12, 10, 11, 17,  7, 17,  9,  3,  3, 16, 17,  6, 12,  9, 11,  6,\n",
      "          3, 17]])\n"
     ]
    }
   ],
   "source": [
    "idx = idx + idx_base\n",
    "print(idx.shape)\n",
    "print(idx[0])"
   ]
  },
  {
   "cell_type": "code",
   "execution_count": 17,
   "metadata": {},
   "outputs": [
    {
     "name": "stdout",
     "output_type": "stream",
     "text": [
      "tensor([[20, 21, 22, 23, 24, 25, 26, 27, 28, 29, 30, 31, 32, 33, 34, 35, 36, 37,\n",
      "         38, 39],\n",
      "        [24, 29, 28, 36, 20, 30, 28, 35, 22, 21, 36, 37, 28, 28, 20, 36, 30, 31,\n",
      "         25, 24],\n",
      "        [25, 39, 31, 30, 38, 38, 32, 28, 32, 33, 35, 22, 26, 29, 37, 30, 35, 22,\n",
      "         35, 25],\n",
      "        [30, 24, 24, 25, 22, 36, 22, 36, 26, 32, 25, 24, 22, 38, 24, 38, 25, 20,\n",
      "         24, 20],\n",
      "        [39, 38, 37, 34, 25, 20, 27, 22, 33, 24, 38, 20, 31, 35, 23, 25, 38, 24,\n",
      "         30, 38],\n",
      "        [38, 33, 20, 35, 39, 35, 31, 26, 27, 28, 20, 32, 29, 32, 30, 27, 23, 34,\n",
      "         36, 21],\n",
      "        [34, 20, 32, 20, 30, 24, 37, 30, 24, 39, 24, 28, 33, 27, 25, 24, 24, 30,\n",
      "         20, 30],\n",
      "        [22, 25, 38, 38, 31, 39, 33, 38, 38, 38, 22, 29, 24, 22, 31, 22, 27, 32,\n",
      "         39, 29],\n",
      "        [37, 31, 30, 24, 37, 23, 24, 33, 31, 31, 23, 38, 37, 24, 39, 20, 20, 28,\n",
      "         22, 35],\n",
      "        [31, 32, 26, 37, 35, 22, 35, 24, 29, 22, 27, 26, 38, 25, 22, 28, 22, 26,\n",
      "         33, 22],\n",
      "        [36, 22, 35, 22, 36, 34, 29, 32, 35, 20, 39, 34, 27, 30, 36, 33, 39, 38,\n",
      "         28, 31],\n",
      "        [35, 28, 27, 39, 28, 37, 38, 25, 30, 25, 37, 39, 20, 21, 38, 23, 28, 25,\n",
      "         29, 36],\n",
      "        [23, 30, 36, 27, 29, 33, 30, 37, 37, 35, 34, 30, 35, 39, 35, 39, 37, 36,\n",
      "         27, 34],\n",
      "        [28, 35, 25, 31, 34, 31, 20, 20, 20, 37, 28, 25, 30, 36, 28, 37, 33, 35,\n",
      "         31, 33],\n",
      "        [29, 37, 33, 28, 32, 28, 36, 31, 36, 30, 31, 35, 21, 26, 32, 31, 34, 39,\n",
      "         37, 37],\n",
      "        [32, 36, 29, 33, 33, 27, 25, 29, 25, 26, 33, 33, 39, 20, 29, 29, 31, 27,\n",
      "         21, 28]])\n"
     ]
    }
   ],
   "source": [
    "print(idx[1])"
   ]
  },
  {
   "cell_type": "code",
   "execution_count": 18,
   "metadata": {},
   "outputs": [
    {
     "name": "stdout",
     "output_type": "stream",
     "text": [
      "torch.Size([3200])\n",
      "tensor([62, 71, 77, 77, 76, 74, 68, 77, 66, 67, 65, 61, 75, 61, 60, 67, 68, 67,\n",
      "        65, 61, 65, 68, 72, 66, 79, 70, 63, 69, 76, 72, 64, 68, 69, 63, 65, 72,\n",
      "        63, 62, 64, 71, 75, 79, 63, 76, 66, 76, 65, 72, 73, 60, 60, 63, 62, 68,\n",
      "        62, 60, 65, 68, 74, 65, 69, 66, 68, 73, 70, 60, 64, 63, 77, 71, 78, 69,\n",
      "        77, 67, 64, 71, 64, 72, 76, 76, 68, 63, 74, 67, 74, 66, 71, 73, 71, 73,\n",
      "        62, 75, 60, 66, 76, 73, 71, 66, 66, 66, 71, 76])\n"
     ]
    }
   ],
   "source": [
    "idx = idx.view(-1)\n",
    "print(idx.shape)\n",
    "print(idx[1000:1102])\n",
    "#assert idx == a"
   ]
  },
  {
   "cell_type": "code",
   "execution_count": 19,
   "metadata": {},
   "outputs": [
    {
     "name": "stdout",
     "output_type": "stream",
     "text": [
      "tensor([[ 0.8655,  0.0401,  0.7722,  ...,  1.1129,  0.1859, -1.5990],\n",
      "        [-0.5356,  0.0232, -0.0681,  ...,  0.9321,  1.4021,  0.6932],\n",
      "        [ 0.2074,  0.5358,  0.2506,  ...,  1.2926,  0.7123,  0.2106],\n",
      "        ...,\n",
      "        [ 1.3767,  0.3430, -0.0890,  ..., -0.4585, -0.0672,  0.4633],\n",
      "        [-0.7804, -2.1200, -1.1222,  ..., -0.5658, -0.8020, -1.3861],\n",
      "        [-0.0228,  1.5791, -0.6177,  ...,  0.7621, -2.1129,  1.0138]])\n",
      "torch.Size([200, 8])\n"
     ]
    }
   ],
   "source": [
    "#x = torch.rand(10,30,8)\n",
    "feature = x.view(bs*n,-1)\n",
    "print(feature)\n",
    "print(feature.shape)\n",
    "#features = feature[idx, :]\n",
    "#"
   ]
  },
  {
   "cell_type": "code",
   "execution_count": 20,
   "metadata": {},
   "outputs": [
    {
     "name": "stdout",
     "output_type": "stream",
     "text": [
      "tensor([[ 8.6551e-01,  4.0063e-02,  7.7224e-01,  ...,  1.1129e+00,\n",
      "          1.8590e-01, -1.5990e+00],\n",
      "        [-5.3556e-01,  2.3208e-02, -6.8061e-02,  ...,  9.3206e-01,\n",
      "          1.4021e+00,  6.9316e-01],\n",
      "        [ 2.0738e-01,  5.3582e-01,  2.5064e-01,  ...,  1.2926e+00,\n",
      "          7.1225e-01,  2.1060e-01],\n",
      "        ...,\n",
      "        [ 1.3414e+00, -1.2810e+00, -4.6848e-01,  ...,  9.5121e-01,\n",
      "          1.1494e-01,  2.2980e-01],\n",
      "        [-2.2842e-02,  1.5791e+00, -6.1775e-01,  ...,  7.6211e-01,\n",
      "         -2.1129e+00,  1.0138e+00],\n",
      "        [ 7.5595e-01,  1.1761e+00,  9.0798e-01,  ...,  1.3700e+00,\n",
      "          5.3536e-04,  1.3930e+00]])\n",
      "torch.Size([3200, 8])\n"
     ]
    }
   ],
   "source": [
    "feature = feature[idx, :]\n",
    "print(feature)\n",
    "print(feature.shape)"
   ]
  },
  {
   "cell_type": "code",
   "execution_count": 21,
   "metadata": {},
   "outputs": [],
   "source": [
    "feature = feature.view(bs, 16, n, 8).permute(0, 3, 2, 1).contiguous()\n"
   ]
  },
  {
   "cell_type": "code",
   "execution_count": 22,
   "metadata": {},
   "outputs": [
    {
     "name": "stdout",
     "output_type": "stream",
     "text": [
      "torch.Size([10, 8, 20, 16])\n"
     ]
    }
   ],
   "source": [
    "print(feature.shape)\n",
    "#FROM  3200,8 ---> 10,8,20,16 is bs,c,n,k\n",
    "x = x.view(bs, 8, n, 1).expand(-1, -1, -1, 16)"
   ]
  },
  {
   "cell_type": "code",
   "execution_count": 23,
   "metadata": {},
   "outputs": [
    {
     "name": "stdout",
     "output_type": "stream",
     "text": [
      "tensor([0.8655, 0.8655, 0.8655, 0.8655, 0.8655, 0.8655, 0.8655, 0.8655, 0.8655,\n",
      "        0.8655, 0.8655, 0.8655, 0.8655, 0.8655, 0.8655, 0.8655])\n"
     ]
    }
   ],
   "source": [
    "print(x[0,0,0])"
   ]
  },
  {
   "cell_type": "code",
   "execution_count": 24,
   "metadata": {},
   "outputs": [],
   "source": [
    "feature = torch.cat((feature - x, x), dim=1)"
   ]
  },
  {
   "cell_type": "code",
   "execution_count": 25,
   "metadata": {},
   "outputs": [
    {
     "name": "stdout",
     "output_type": "stream",
     "text": [
      "torch.Size([10, 16, 20, 16])\n"
     ]
    }
   ],
   "source": [
    "print(feature.shape)"
   ]
  },
  {
   "cell_type": "code",
   "execution_count": 26,
   "metadata": {},
   "outputs": [],
   "source": [
    "# groupnorm = nn.GroupNorm(2,4)\n",
    "# test = torch.tensor([[1,2,3,4],[1,9,5,4],[1,4,1,4],[1,8,7,4],[1,4,1,1]],dtype=torch.float)  # 5xC(4)\n",
    "# result = groupnorm(test)\n",
    "# print(result)\n",
    "layer1 = nn.Sequential(nn.Conv2d(16, 32, kernel_size=1, bias=False), # B,8,N,16 --> B,32,N,16\n",
    "                                   nn.GroupNorm(4, 32),\n",
    "                                   nn.LeakyReLU(negative_slope=0.2)\n",
    "                                   )"
   ]
  },
  {
   "cell_type": "code",
   "execution_count": 27,
   "metadata": {},
   "outputs": [
    {
     "name": "stdout",
     "output_type": "stream",
     "text": [
      "torch.return_types.max(\n",
      "values=tensor([4., 9., 4., 8., 4.]),\n",
      "indices=tensor([3, 1, 1, 1, 1]))\n"
     ]
    }
   ],
   "source": [
    "test = torch.tensor([[1,2,3,4],[1,9,5,4],[1,4,1,4],[1,8,7,4],[1,4,1,1]],dtype=torch.float)  # 5xC(4)\n",
    "t = test.max(-1,keepdim=False)\n",
    "print(t)"
   ]
  },
  {
   "cell_type": "code",
   "execution_count": null,
   "metadata": {},
   "outputs": [],
   "source": []
  },
  {
   "cell_type": "code",
   "execution_count": 28,
   "metadata": {},
   "outputs": [
    {
     "name": "stdout",
     "output_type": "stream",
     "text": [
      "torch.Size([10, 32, 20, 16])\n",
      "torch.return_types.max(\n",
      "values=tensor([[[ 2.8481,  3.0120,  2.1794,  ...,  0.4912,  1.4207,  1.5490],\n",
      "         [-0.0667,  0.3170,  1.2922,  ...,  0.0425,  0.9726,  0.7651],\n",
      "         [ 0.5465,  1.5642,  0.7405,  ..., -0.1106, -0.1196,  0.8093],\n",
      "         ...,\n",
      "         [ 2.1218,  1.0358,  0.4066,  ...,  2.3124,  1.3226,  1.2843],\n",
      "         [ 1.6370,  0.7463,  0.4448,  ...,  1.0949,  0.9119, -0.1012],\n",
      "         [-0.0636, -0.1535,  0.6616,  ...,  1.5665,  2.4998,  0.8026]],\n",
      "\n",
      "        [[ 2.1225,  2.2735,  0.4287,  ...,  0.3421,  1.5130,  0.1804],\n",
      "         [ 2.9372,  1.4094,  0.7583,  ...,  0.2786, -0.2942,  1.4066],\n",
      "         [ 1.0572,  0.9606,  0.8761,  ...,  0.5188,  0.8294,  1.5219],\n",
      "         ...,\n",
      "         [-0.0200,  0.4338,  2.3987,  ...,  2.7123,  2.3416,  0.6139],\n",
      "         [-0.1036,  0.3965, -0.0436,  ..., -0.0293,  2.6460,  0.7539],\n",
      "         [ 2.3868,  0.7581,  1.4240,  ...,  1.5070, -0.0650,  1.6863]],\n",
      "\n",
      "        [[ 1.2612,  0.2019,  0.0183,  ...,  1.4158, -0.0221,  1.0247],\n",
      "         [ 1.0035,  1.9577,  2.2821,  ...,  0.8830,  2.2395, -0.0099],\n",
      "         [ 0.4520,  0.8658,  0.0520,  ...,  1.2526,  0.3841,  1.0176],\n",
      "         ...,\n",
      "         [ 1.0139,  2.0301,  1.7509,  ...,  1.3133,  0.5922,  3.7970],\n",
      "         [ 0.1765,  0.4598, -0.0745,  ...,  1.2259,  0.8829,  0.3646],\n",
      "         [ 0.2424,  1.6300,  1.6188,  ...,  2.0851,  3.0925,  1.3344]],\n",
      "\n",
      "        ...,\n",
      "\n",
      "        [[ 0.8740, -0.0283,  1.1426,  ..., -0.1122,  1.8536,  0.7589],\n",
      "         [ 1.5606,  0.0959, -0.1854,  ...,  1.0500,  0.3649,  1.1200],\n",
      "         [ 0.5352, -0.0053,  1.4894,  ...,  0.1367,  0.8736,  1.6910],\n",
      "         ...,\n",
      "         [ 0.8783,  1.7306,  1.5819,  ...,  2.8603, -0.0449,  1.1184],\n",
      "         [-0.0538,  1.5982,  2.6433,  ...,  0.4244,  2.3096,  0.7850],\n",
      "         [ 2.0355,  1.3106, -0.2362,  ...,  1.5127, -0.1192,  0.3984]],\n",
      "\n",
      "        [[-0.1229, -0.3152,  1.8160,  ...,  0.6423,  0.1981,  0.2879],\n",
      "         [ 0.3173,  2.1480, -0.0592,  ...,  0.8462,  2.2280,  0.8880],\n",
      "         [-0.0237,  0.6010,  2.1021,  ...,  1.4227,  0.9811,  0.9938],\n",
      "         ...,\n",
      "         [ 2.8681,  2.1620,  2.8583,  ...,  0.3872,  0.5366,  0.6966],\n",
      "         [ 0.3186, -0.1760, -0.1260,  ...,  1.1543,  0.3108,  0.1843],\n",
      "         [ 2.6020,  2.4004, -0.0060,  ...,  1.1027,  3.2043,  1.4689]],\n",
      "\n",
      "        [[ 2.0310,  0.1990,  1.6634,  ...,  1.4356,  1.1159,  1.8788],\n",
      "         [ 1.8687, -0.0312, -0.0120,  ...,  0.1578,  2.7672, -0.1115],\n",
      "         [ 0.4994,  0.1568,  1.1134,  ...,  0.7505,  1.3258,  0.3108],\n",
      "         ...,\n",
      "         [-0.3289,  3.8796,  1.2805,  ...,  0.0398, -0.0191,  2.0855],\n",
      "         [ 1.5428,  1.2798,  0.9771,  ...,  2.0780, -0.1470,  1.7741],\n",
      "         [ 1.8353,  0.8240,  0.1670,  ...,  1.0787,  2.3718,  0.7521]]],\n",
      "       grad_fn=<MaxBackward0>),\n",
      "indices=tensor([[[ 4, 10, 10,  ..., 13, 15,  3],\n",
      "         [ 2,  5,  0,  ...,  4, 11,  2],\n",
      "         [ 6,  9,  6,  ...,  5,  4, 10],\n",
      "         ...,\n",
      "         [12,  1,  3,  ...,  9,  1,  5],\n",
      "         [11,  7,  7,  ...,  3,  5, 12],\n",
      "         [ 2,  5,  0,  ...,  4, 11,  2]],\n",
      "\n",
      "        [[ 7, 10,  0,  ...,  2,  8,  9],\n",
      "         [12, 15,  9,  ...,  9,  5, 11],\n",
      "         [ 3, 12,  8,  ...,  6,  4,  6],\n",
      "         ...,\n",
      "         [ 1,  3,  3,  ...,  4,  3,  1],\n",
      "         [ 5,  0,  7,  ..., 10, 15,  5],\n",
      "         [ 6, 11,  1,  ...,  5, 10, 12]],\n",
      "\n",
      "        [[ 7,  7,  2,  ...,  6, 12, 14],\n",
      "         [ 9, 13,  7,  ..., 11,  0,  4],\n",
      "         [ 3,  5,  5,  ...,  1,  6,  3],\n",
      "         ...,\n",
      "         [ 5, 13,  9,  ..., 11,  0,  4],\n",
      "         [ 7, 15,  2,  ..., 14,  1,  9],\n",
      "         [ 2, 15,  3,  ..., 14,  1,  9]],\n",
      "\n",
      "        ...,\n",
      "\n",
      "        [[10,  0,  5,  ...,  8,  1,  1],\n",
      "         [ 5,  5, 13,  ...,  0, 15, 14],\n",
      "         [ 0,  9,  6,  ...,  4, 11,  9],\n",
      "         ...,\n",
      "         [15, 12, 11,  ..., 11, 14, 12],\n",
      "         [ 4, 14, 12,  ...,  8, 11,  5],\n",
      "         [ 9,  4,  9,  ...,  9,  2, 11]],\n",
      "\n",
      "        [[14,  3,  2,  ..., 15, 13,  5],\n",
      "         [15,  1,  8,  ...,  5, 12,  3],\n",
      "         [14, 13,  0,  ...,  9, 15, 15],\n",
      "         ...,\n",
      "         [12, 15,  1,  ...,  1, 14,  6],\n",
      "         [13, 13,  0,  ...,  9, 13, 15],\n",
      "         [ 0, 11, 15,  ...,  5,  3,  3]],\n",
      "\n",
      "        [[ 8,  6,  2,  ...,  5, 10,  5],\n",
      "         [ 3, 14,  4,  ...,  3,  9,  2],\n",
      "         [ 1,  0, 10,  ...,  1, 15,  0],\n",
      "         ...,\n",
      "         [ 0,  2, 14,  ...,  4, 13,  4],\n",
      "         [15, 15, 15,  ..., 12,  0, 13],\n",
      "         [11, 13,  8,  ...,  7,  3, 11]]]))\n"
     ]
    }
   ],
   "source": [
    "f = layer1(feature)\n",
    "print(f.shape)\n",
    "f = f.max(-1, keepdim=False)\n",
    "print(f)"
   ]
  },
  {
   "cell_type": "code",
   "execution_count": 29,
   "metadata": {},
   "outputs": [
    {
     "name": "stdout",
     "output_type": "stream",
     "text": [
      "torch.Size([3, 20, 3])\n"
     ]
    }
   ],
   "source": [
    "a  = torch.randn(3,20,3)\n",
    "print(a.shape)\n"
   ]
  },
  {
   "cell_type": "code",
   "execution_count": 30,
   "metadata": {},
   "outputs": [
    {
     "name": "stdout",
     "output_type": "stream",
     "text": [
      "tensor([[-0.1500,  0.0311, -0.1534],\n",
      "        [-0.4396,  0.3668,  0.1480],\n",
      "        [ 0.1105,  0.6169, -0.0097]])\n"
     ]
    }
   ],
   "source": [
    "center = torch.mean(a, dim=1)\n",
    "print(center)"
   ]
  },
  {
   "cell_type": "code",
   "execution_count": 31,
   "metadata": {},
   "outputs": [
    {
     "name": "stdout",
     "output_type": "stream",
     "text": [
      "tensor([[0, 0, 4, 4, 9],\n",
      "        [0, 0, 0, 0, 1],\n",
      "        [1, 1, 1, 1, 1]])\n",
      "torch.Size([3, 5]) torch.Size([1, 5])\n",
      "torch.Size([5, 1, 1])\n"
     ]
    }
   ],
   "source": [
    "c = torch.tensor([[1,2,3,4,5],[1,2,1,2,1],[2,3,2,3,3]])\n",
    "f = torch.tensor([[1,2,1,2,2]])\n",
    "h = (c-f)*(c-f)\n",
    "print(h)\n",
    "print(c.shape,f.shape)\n",
    "f = f.reshape(5,1,1)\n",
    "print(f.shape)"
   ]
  },
  {
   "cell_type": "code",
   "execution_count": 32,
   "metadata": {},
   "outputs": [
    {
     "name": "stdout",
     "output_type": "stream",
     "text": [
      "torch.Size([3, 10])\n"
     ]
    }
   ],
   "source": [
    "dd = torch.concat([c,h],dim =1)\n",
    "print(dd.shape)"
   ]
  },
  {
   "cell_type": "code",
   "execution_count": 33,
   "metadata": {},
   "outputs": [
    {
     "name": "stdout",
     "output_type": "stream",
     "text": [
      "torch.Size([3, 10])\n"
     ]
    }
   ],
   "source": [
    "g = dd*dd\n",
    "print(g.shape)"
   ]
  },
  {
   "cell_type": "code",
   "execution_count": 34,
   "metadata": {},
   "outputs": [
    {
     "name": "stdout",
     "output_type": "stream",
     "text": [
      "tensor([168,  12,  40])\n"
     ]
    }
   ],
   "source": [
    "v = torch.sum(g,dim=1)\n",
    "print(v)"
   ]
  },
  {
   "cell_type": "code",
   "execution_count": 35,
   "metadata": {},
   "outputs": [
    {
     "name": "stdout",
     "output_type": "stream",
     "text": [
      "torch.return_types.sort(\n",
      "values=tensor([[ 0,  0,  1,  4,  9, 16, 16, 16, 25, 81],\n",
      "        [ 0,  0,  0,  0,  1,  1,  1,  1,  4,  4],\n",
      "        [ 1,  1,  1,  1,  1,  4,  4,  9,  9,  9]]),\n",
      "indices=tensor([[5, 6, 0, 1, 2, 3, 7, 8, 4, 9],\n",
      "        [5, 6, 7, 8, 0, 2, 4, 9, 1, 3],\n",
      "        [5, 6, 7, 8, 9, 0, 2, 1, 3, 4]]))\n",
      "tensor([[ 1,  4,  9, 16, 25,  0,  0, 16, 16, 81],\n",
      "        [ 1,  4,  1,  4,  1,  0,  0,  0,  0,  1],\n",
      "        [ 4,  9,  4,  9,  9,  1,  1,  1,  1,  1]])\n"
     ]
    }
   ],
   "source": [
    "vv = torch.sort(g,dim=1)\n",
    "print(vv)\n",
    "print(g)"
   ]
  },
  {
   "cell_type": "code",
   "execution_count": 36,
   "metadata": {},
   "outputs": [
    {
     "name": "stdout",
     "output_type": "stream",
     "text": [
      "tensor([[[ 2.3033],\n",
      "         [-0.8871],\n",
      "         [ 0.6483]],\n",
      "\n",
      "        [[ 0.0495],\n",
      "         [-0.0875],\n",
      "         [-1.6272]]])\n"
     ]
    }
   ],
   "source": [
    "vip = torch.randn(2,3,1)\n",
    "print(vip)\n"
   ]
  },
  {
   "cell_type": "code",
   "execution_count": 37,
   "metadata": {},
   "outputs": [
    {
     "ename": "NameError",
     "evalue": "name 'dim12' is not defined",
     "output_type": "error",
     "traceback": [
      "\u001b[1;31m---------------------------------------------------------------------------\u001b[0m",
      "\u001b[1;31mNameError\u001b[0m                                 Traceback (most recent call last)",
      "Input \u001b[1;32mIn [37]\u001b[0m, in \u001b[0;36m<cell line: 1>\u001b[1;34m()\u001b[0m\n\u001b[1;32m----> 1\u001b[0m sortvip \u001b[38;5;241m=\u001b[39m torch\u001b[38;5;241m.\u001b[39msort(vip,\u001b[43mdim12\u001b[49m)\n\u001b[0;32m      2\u001b[0m \u001b[38;5;28mprint\u001b[39m(sortvip)\n",
      "\u001b[1;31mNameError\u001b[0m: name 'dim12' is not defined"
     ]
    }
   ],
   "source": [
    "sortvip = torch.sort(vip,dim12)\n",
    "print(sortvip)"
   ]
  },
  {
   "cell_type": "code",
   "execution_count": 38,
   "metadata": {},
   "outputs": [
    {
     "name": "stdout",
     "output_type": "stream",
     "text": [
      "torch.Size([5, 10, 1])\n"
     ]
    }
   ],
   "source": [
    "a = torch.rand(5, 10, 1)  # Replace with your actual tensor \"a\"\n",
    "_, index_sort = torch.sort(a, dim=1)  # Get sorting indices for \"a\" on dim=1 (10 here)\n",
    "\n",
    "b = torch.rand(5, 10, 3)  # Replace with your actual tensor \"b\"\n",
    "print(index_sort.shape)\n"
   ]
  },
  {
   "cell_type": "code",
   "execution_count": 39,
   "metadata": {},
   "outputs": [
    {
     "name": "stdout",
     "output_type": "stream",
     "text": [
      "torch.Size([5, 10, 3])\n"
     ]
    }
   ],
   "source": [
    "expanded_indices = index_sort[:, :].expand_as(b)\n",
    "print(expanded_indices.shape)"
   ]
  },
  {
   "cell_type": "code",
   "execution_count": 40,
   "metadata": {},
   "outputs": [],
   "source": [
    "sorted_b = torch.gather(b, dim=1, index=expanded_indices)\n"
   ]
  },
  {
   "cell_type": "code",
   "execution_count": 41,
   "metadata": {},
   "outputs": [
    {
     "name": "stdout",
     "output_type": "stream",
     "text": [
      "torch.Size([5, 10, 3])\n",
      "tensor([[0.8331, 0.9963, 0.2219],\n",
      "        [0.6938, 0.5713, 0.2754],\n",
      "        [0.7270, 0.9883, 0.1749],\n",
      "        [0.3538, 0.6450, 0.0524],\n",
      "        [0.6971, 0.2312, 0.1324],\n",
      "        [0.8141, 0.8299, 0.9632],\n",
      "        [0.1308, 0.1690, 0.1791],\n",
      "        [0.7684, 0.2833, 0.1349],\n",
      "        [0.8713, 0.2591, 0.6996],\n",
      "        [0.4581, 0.8400, 0.2452]])\n",
      "tensor([[0.8141, 0.8299, 0.9632],\n",
      "        [0.3538, 0.6450, 0.0524],\n",
      "        [0.7270, 0.9883, 0.1749],\n",
      "        [0.6938, 0.5713, 0.2754],\n",
      "        [0.1308, 0.1690, 0.1791],\n",
      "        [0.8713, 0.2591, 0.6996],\n",
      "        [0.7684, 0.2833, 0.1349],\n",
      "        [0.4581, 0.8400, 0.2452],\n",
      "        [0.6971, 0.2312, 0.1324],\n",
      "        [0.8331, 0.9963, 0.2219]])\n",
      "tensor([[[9, 9, 9],\n",
      "         [3, 3, 3],\n",
      "         [2, 2, 2],\n",
      "         [1, 1, 1],\n",
      "         [8, 8, 8],\n",
      "         [0, 0, 0],\n",
      "         [4, 4, 4],\n",
      "         [6, 6, 6],\n",
      "         [5, 5, 5],\n",
      "         [7, 7, 7]],\n",
      "\n",
      "        [[6, 6, 6],\n",
      "         [7, 7, 7],\n",
      "         [9, 9, 9],\n",
      "         [4, 4, 4],\n",
      "         [0, 0, 0],\n",
      "         [3, 3, 3],\n",
      "         [1, 1, 1],\n",
      "         [5, 5, 5],\n",
      "         [2, 2, 2],\n",
      "         [8, 8, 8]],\n",
      "\n",
      "        [[1, 1, 1],\n",
      "         [8, 8, 8],\n",
      "         [4, 4, 4],\n",
      "         [2, 2, 2],\n",
      "         [7, 7, 7],\n",
      "         [5, 5, 5],\n",
      "         [6, 6, 6],\n",
      "         [9, 9, 9],\n",
      "         [0, 0, 0],\n",
      "         [3, 3, 3]],\n",
      "\n",
      "        [[9, 9, 9],\n",
      "         [0, 0, 0],\n",
      "         [6, 6, 6],\n",
      "         [1, 1, 1],\n",
      "         [5, 5, 5],\n",
      "         [2, 2, 2],\n",
      "         [4, 4, 4],\n",
      "         [8, 8, 8],\n",
      "         [3, 3, 3],\n",
      "         [7, 7, 7]],\n",
      "\n",
      "        [[1, 1, 1],\n",
      "         [9, 9, 9],\n",
      "         [3, 3, 3],\n",
      "         [6, 6, 6],\n",
      "         [4, 4, 4],\n",
      "         [2, 2, 2],\n",
      "         [5, 5, 5],\n",
      "         [0, 0, 0],\n",
      "         [8, 8, 8],\n",
      "         [7, 7, 7]]])\n"
     ]
    }
   ],
   "source": [
    "print(sorted_b.shape)\n",
    "print(sorted_b[0])\n",
    "print(b[0])\n",
    "print(expanded_indices)"
   ]
  },
  {
   "cell_type": "code",
   "execution_count": 42,
   "metadata": {},
   "outputs": [
    {
     "name": "stdout",
     "output_type": "stream",
     "text": [
      "torch.Size([3, 2, 1])\n",
      "tensor([[ 0.8291,  1.4782],\n",
      "        [-1.6637, -1.2961],\n",
      "        [-1.0994,  0.3817]])\n",
      "tensor([[[ 0.8291],\n",
      "         [ 1.4782]],\n",
      "\n",
      "        [[-1.6637],\n",
      "         [-1.2961]],\n",
      "\n",
      "        [[-1.0994],\n",
      "         [ 0.3817]]])\n"
     ]
    }
   ],
   "source": [
    "cv = torch.randn(3,2)\n",
    "vc = cv.view(3,-1,1)\n",
    "print(vc.shape)\n",
    "print(cv)\n",
    "print(vc)"
   ]
  },
  {
   "cell_type": "code",
   "execution_count": 43,
   "metadata": {},
   "outputs": [],
   "source": [
    "coor = torch.randn(3,10,3)\n",
    "f = torch.randn(3,10,4)\n",
    "bs = 3"
   ]
  },
  {
   "cell_type": "code",
   "execution_count": 44,
   "metadata": {},
   "outputs": [],
   "source": [
    "center_coor = torch.mean(coor,dim=1) # dim = bs * 3\n",
    "center_coor = center_coor.reshape(bs,1,3)\n",
    "dis_to_center = coor - center_coor # bs * 256 * 3\n",
    "dis_to_center = torch.sum(dis_to_center*dis_to_center,dim=2) # bs* 256 *1\n",
    "dis_to_center = dis_to_center.view(bs,-1,1)\n",
    "dis_to_center,sorted_dis_index = torch.sort(dis_to_center, dim =1) # bs * 256 * 1\n",
    "expanded_indices = sorted_dis_index[:, :].expand_as(coor)\n",
    "coor = torch.gather(coor, dim=1, index=expanded_indices)  # sort coor as dis_to_center\n",
    "expanded_indices_f = sorted_dis_index[:, :].expand_as(f)\n",
    "f = torch.gather(f, dim=1, index=expanded_indices_f)  # sort f as dis_to_center"
   ]
  },
  {
   "cell_type": "code",
   "execution_count": 49,
   "metadata": {},
   "outputs": [
    {
     "name": "stdout",
     "output_type": "stream",
     "text": [
      "torch.Size([3, 10, 1])\n",
      "torch.Size([3, 10, 1]) tensor([[[0.0127],\n",
      "         [0.0230],\n",
      "         [0.0458],\n",
      "         [0.0842],\n",
      "         [0.0940],\n",
      "         [0.1352],\n",
      "         [0.2615],\n",
      "         [0.3624],\n",
      "         [0.5852],\n",
      "         [0.6488]],\n",
      "\n",
      "        [[0.0185],\n",
      "         [0.1034],\n",
      "         [0.1136],\n",
      "         [0.1507],\n",
      "         [0.1821],\n",
      "         [0.2764],\n",
      "         [0.3642],\n",
      "         [0.4186],\n",
      "         [0.5001],\n",
      "         [0.5346]],\n",
      "\n",
      "        [[0.0101],\n",
      "         [0.0351],\n",
      "         [0.1284],\n",
      "         [0.1398],\n",
      "         [0.1518],\n",
      "         [0.1607],\n",
      "         [0.1656],\n",
      "         [0.1837],\n",
      "         [0.2238],\n",
      "         [0.8958]]])\n"
     ]
    }
   ],
   "source": [
    "print(dis_to_center.shape)\n",
    "alo = torch.nn.functional.normalize(dis_to_center*dis_to_center,dim=1)\n",
    "print(alo.shape,alo)"
   ]
  },
  {
   "cell_type": "code",
   "execution_count": 90,
   "metadata": {},
   "outputs": [
    {
     "name": "stdout",
     "output_type": "stream",
     "text": [
      "torch.Size([3, 10, 4])\n"
     ]
    }
   ],
   "source": [
    "concat_coor_dis = torch.concat([coor,dis_to_center],dim = 2) # bs * 256 * 6\n",
    "print(concat_coor_dis.shape)"
   ]
  },
  {
   "cell_type": "code",
   "execution_count": 65,
   "metadata": {},
   "outputs": [
    {
     "name": "stdout",
     "output_type": "stream",
     "text": [
      "tensor([[2., 3., 1.],\n",
      "        [3., 3., 3.],\n",
      "        [1., 1., 1.],\n",
      "        [4., 2., 1.],\n",
      "        [2., 1., 1.]], dtype=torch.float64)\n"
     ]
    }
   ],
   "source": [
    "matrix = torch.tensor([[2,3,1],[3,3,3],[1,1,1],[4,2,1],[2,1,1]],dtype=float)\n",
    "print(matrix)\n"
   ]
  },
  {
   "cell_type": "code",
   "execution_count": 66,
   "metadata": {},
   "outputs": [
    {
     "name": "stdout",
     "output_type": "stream",
     "text": [
      "tensor([2., 3., 1., 4., 2.], dtype=torch.float64)\n"
     ]
    }
   ],
   "source": [
    "feature_1 = matrix[:,0]\n",
    "print(feature_1)"
   ]
  },
  {
   "cell_type": "code",
   "execution_count": 67,
   "metadata": {},
   "outputs": [
    {
     "name": "stdout",
     "output_type": "stream",
     "text": [
      "tensor([2.4000, 2.0000, 1.4000], dtype=torch.float64)\n",
      "(tensor([1.1402, 1.0000, 0.8944], dtype=torch.float64), tensor([2.4000, 2.0000, 1.4000], dtype=torch.float64))\n"
     ]
    }
   ],
   "source": [
    "mean = torch.mean(matrix,dim=0)\n",
    "print(mean)\n",
    "sd = torch.std_mean(matrix,dim=0)  # out 2 tensor, std and mean\n",
    "print(sd)"
   ]
  },
  {
   "cell_type": "code",
   "execution_count": 68,
   "metadata": {},
   "outputs": [
    {
     "name": "stdout",
     "output_type": "stream",
     "text": [
      "tensor([[-0.3508,  1.0000, -0.4472],\n",
      "        [ 0.5262,  1.0000,  1.7889],\n",
      "        [-1.2279, -1.0000, -0.4472],\n",
      "        [ 1.4033,  0.0000, -0.4472],\n",
      "        [-0.3508, -1.0000, -0.4472]], dtype=torch.float64)\n"
     ]
    }
   ],
   "source": [
    "standardize_matrix = matrix\n",
    "for i in range(3):\n",
    "    standardize_matrix[:,i] = (standardize_matrix[:,i]- sd[1][i])/sd[0][i]\n",
    "print(standardize_matrix)"
   ]
  },
  {
   "cell_type": "code",
   "execution_count": 63,
   "metadata": {},
   "outputs": [
    {
     "name": "stdout",
     "output_type": "stream",
     "text": [
      "tensor([[-2.4126, -1.0000, -2.0652],\n",
      "        [-1.6434, -1.0000,  0.4348],\n",
      "        [-3.1819, -3.0000, -2.0652],\n",
      "        [-0.8742, -2.0000, -2.0652],\n",
      "        [-2.4126, -3.0000, -2.0652]], dtype=torch.float64)\n"
     ]
    }
   ],
   "source": [
    "standardize_matrix = matrix\n",
    "standardize_matrix = (standardize_matrix-sd[1]) / sd[0]\n",
    "print(standardize_matrix)\n",
    "#print(matrix)"
   ]
  },
  {
   "cell_type": "code",
   "execution_count": 92,
   "metadata": {},
   "outputs": [
    {
     "name": "stdout",
     "output_type": "stream",
     "text": [
      "tensor([[-0.3508,  1.0000, -0.4472],\n",
      "        [ 0.5262,  1.0000,  1.7889],\n",
      "        [-1.2279, -1.0000, -0.4472],\n",
      "        [ 1.4033,  0.0000, -0.4472],\n",
      "        [-0.3508, -1.0000, -0.4472]], dtype=torch.float64)\n"
     ]
    }
   ],
   "source": [
    "standardize_matrix_1shot = torch.nn.functional.normalize(matrix,dim=1)\n",
    "print(standardize_matrix)"
   ]
  },
  {
   "cell_type": "code",
   "execution_count": 75,
   "metadata": {},
   "outputs": [
    {
     "name": "stdout",
     "output_type": "stream",
     "text": [
      "step 0 1\n",
      "step 0 2\n",
      "step 1 2\n",
      "tensor([0.4385, 0.2942, 0.5590])\n"
     ]
    }
   ],
   "source": [
    "covar_mtrx = torch.zeros(3)\n",
    "step = 0\n",
    "for i in range(2):\n",
    "    for j in range(i+1,3):\n",
    "        covar = torch.sum((standardize_matrix[:,i] - 0)*(standardize_matrix[:,j] ))\n",
    "        #print(standardize_matrix[:,2], standardize_matrix[:,0])\n",
    "        covar_mtrx[step] = covar/(standardize_matrix.size(0)-1)\n",
    "        step +=1\n",
    "        print(\"step\",i,j)\n",
    "print(covar_mtrx)\n",
    "    "
   ]
  },
  {
   "cell_type": "code",
   "execution_count": 70,
   "metadata": {},
   "outputs": [
    {
     "name": "stdout",
     "output_type": "stream",
     "text": [
      "tensor([[-0.3508,  1.0000, -0.4472],\n",
      "        [ 0.5262,  1.0000,  1.7889],\n",
      "        [-1.2279, -1.0000, -0.4472],\n",
      "        [ 1.4033,  0.0000, -0.4472],\n",
      "        [-0.3508, -1.0000, -0.4472]], dtype=torch.float64)\n",
      "tensor([[1.0000, 0.4385, 0.2942],\n",
      "        [0.4385, 1.0000, 0.5590],\n",
      "        [0.2942, 0.5590, 1.0000]], dtype=torch.float64)\n"
     ]
    }
   ],
   "source": [
    "print(standardize_matrix)\n",
    "covar_mtrx_1 = torch.cov(standardize_matrix.T)\n",
    "print(covar_mtrx_1)"
   ]
  },
  {
   "cell_type": "code",
   "execution_count": 84,
   "metadata": {},
   "outputs": [
    {
     "name": "stdout",
     "output_type": "stream",
     "text": [
      "torch.return_types.linalg_svd(\n",
      "U=tensor([[-0.5144,  0.8124,  0.2746],\n",
      "        [-0.6318, -0.1426, -0.7619],\n",
      "        [-0.5798, -0.5654,  0.5866]], dtype=torch.float64),\n",
      "S=tensor([1.8701, 0.7183, 0.4116], dtype=torch.float64),\n",
      "Vh=tensor([[-0.5144, -0.6318, -0.5798],\n",
      "        [ 0.8124, -0.1426, -0.5654],\n",
      "        [ 0.2746, -0.7619,  0.5866]], dtype=torch.float64))\n"
     ]
    }
   ],
   "source": [
    "a = torch.linalg.svd(covar_mtrx_1)\n",
    "print(a)\n"
   ]
  },
  {
   "cell_type": "code",
   "execution_count": 94,
   "metadata": {},
   "outputs": [
    {
     "name": "stdout",
     "output_type": "stream",
     "text": [
      "tensor([[0.3846, 0.0000, 0.9806],\n",
      "        [0.0000, 0.0000, 0.0000],\n",
      "        [0.9806, 0.0000, 2.5000]], dtype=torch.float64)\n",
      "tensor([[1.7949, 0.7309, 0.0000],\n",
      "        [0.7309, 0.3333, 0.0000],\n",
      "        [0.0000, 0.0000, 0.0000]], dtype=torch.float64)\n"
     ]
    }
   ],
   "source": [
    "test = torch.cov(standardize_matrix[0:2].T)\n",
    "print(test)\n",
    "test_1 = torch.cov(standardize_matrix[2:5].T)\n",
    "print(test_1)\n",
    "within_class = test + test_1"
   ]
  },
  {
   "cell_type": "code",
   "execution_count": 103,
   "metadata": {},
   "outputs": [
    {
     "name": "stdout",
     "output_type": "stream",
     "text": [
      "torch.Size([3])\n",
      "torch.Size([3])\n",
      "tensor([[0.0256, 0.2924, 0.1961],\n",
      "        [0.2924, 3.3333, 2.2361],\n",
      "        [0.1961, 2.2361, 1.5000]], dtype=torch.float64)\n"
     ]
    }
   ],
   "source": [
    "mean_all = torch.mean(standardize_matrix, dim =0)\n",
    "print(mean_all.shape)\n",
    "mean_class_1 = torch.mean(standardize_matrix[0:2],dim = 0)\n",
    "mean_class_0 = torch.mean(standardize_matrix[2:5],dim = 0)\n",
    "print(mean_class_1.shape)\n",
    "\n",
    "between_class = 2*(mean_class_1.reshape(3,1)- mean_all.reshape(3,1))*(mean_class_1.reshape(3,1)- mean_all.reshape(3,1)).T\n",
    "between_class+= 3*(mean_class_0.reshape(3,1)- mean_all.reshape(3,1))*(mean_class_0.reshape(3,1)- mean_all.reshape(3,1)).T\n",
    "print(between_class)"
   ]
  },
  {
   "cell_type": "code",
   "execution_count": null,
   "metadata": {},
   "outputs": [],
   "source": [
    "# How to calculate between class scatter matrix\n",
    "# Step 1: compute mean vector of each class - based on feature, so if you have 2 classes and each data has 3 feature -> 2 x 3 mean vector\n",
    "# Step 2: compute mean for all : num_data * 3\n",
    "# For each class,temp = num_data_in_class * ( mean_that_class - mean all)*( mean_that_class - mean all).T\n",
    "# Sum of all class temp will be between class\n",
    "\n",
    "\n",
    "\n",
    "# How to calculate within class scatter matrix\n",
    "# Compute covariance matrix for each class, if 2 class -> 2 cova matrix\n",
    "# Sum these matrix -> within class"
   ]
  },
  {
   "cell_type": "code",
   "execution_count": 104,
   "metadata": {},
   "outputs": [
    {
     "name": "stdout",
     "output_type": "stream",
     "text": [
      "torch.return_types.linalg_svd(\n",
      "U=tensor([[-0.7071, -0.7071],\n",
      "        [-0.7071,  0.7071]]),\n",
      "S=tensor([1.4000, 0.6000]),\n",
      "Vh=tensor([[-0.7071, -0.7071],\n",
      "        [-0.7071,  0.7071]]))\n"
     ]
    }
   ],
   "source": [
    "tet = torch.tensor([[1,0.4],[0.4,1]])\n",
    "out = torch.linalg.svd(tet)\n",
    "print(out)"
   ]
  },
  {
   "cell_type": "code",
   "execution_count": 12,
   "metadata": {},
   "outputs": [],
   "source": [
    "from __future__ import print_function\n",
    "import numpy as np \n",
    "import matplotlib.pyplot as plt\n",
    "from scipy.spatial.distance import cdist\n",
    "np.random.seed(22)\n",
    "\n",
    "means = [[2, 2], [4, 2]]\n",
    "cov = [[.3, .2], [.2, .3]]\n",
    "N = 10\n",
    "X0 = np.random.multivariate_normal(means[0], cov, N) # class 1\n",
    "X1 = np.random.multivariate_normal(means[1], cov, N) # class -1 \n",
    "X = np.concatenate((X0.T, X1.T), axis = 1) # all data \n",
    "y = np.concatenate((np.ones((1, N)), -1*np.ones((1, N))), axis = 1) # labels "
   ]
  },
  {
   "cell_type": "code",
   "execution_count": 16,
   "metadata": {},
   "outputs": [
    {
     "name": "stdout",
     "output_type": "stream",
     "text": [
      "(10, 2)\n",
      "[[3.42746579 0.71254431]\n",
      " [4.24760864 2.39846497]\n",
      " [3.33595491 1.61731637]\n",
      " [3.69420104 1.94273986]\n",
      " [4.53897645 2.54957308]\n",
      " [3.3071994  0.19362396]\n",
      " [4.13924705 2.09561534]\n",
      " [4.47383468 2.41269466]\n",
      " [4.00512009 1.89290099]\n",
      " [4.28205624 1.79675607]]\n"
     ]
    }
   ],
   "source": [
    "print(X0.shape)\n",
    "print(X1)"
   ]
  },
  {
   "cell_type": "code",
   "execution_count": 27,
   "metadata": {},
   "outputs": [
    {
     "name": "stdout",
     "output_type": "stream",
     "text": [
      "V=\n",
      "(2, 20)\n",
      "K-shape (20, 20)\n",
      "p-shape (20, 1)\n",
      "G-shape (20, 20)\n",
      "h-shape (20, 1)\n"
     ]
    },
    {
     "ename": "AttributeError",
     "evalue": "'cvxopt.base.matrix' object has no attribute 'shape'",
     "output_type": "error",
     "traceback": [
      "\u001b[1;31m---------------------------------------------------------------------------\u001b[0m",
      "\u001b[1;31mAttributeError\u001b[0m                            Traceback (most recent call last)",
      "Input \u001b[1;32mIn [27]\u001b[0m, in \u001b[0;36m<cell line: 17>\u001b[1;34m()\u001b[0m\n\u001b[0;32m     15\u001b[0m \u001b[38;5;28mprint\u001b[39m(\u001b[38;5;124m\"\u001b[39m\u001b[38;5;124mh-shape\u001b[39m\u001b[38;5;124m\"\u001b[39m,h\u001b[38;5;241m.\u001b[39msize)\n\u001b[0;32m     16\u001b[0m A \u001b[38;5;241m=\u001b[39m matrix(y) \u001b[38;5;66;03m# the equality constrain is actually y^T lambda = 0\u001b[39;00m\n\u001b[1;32m---> 17\u001b[0m \u001b[38;5;28mprint\u001b[39m(\u001b[38;5;124m\"\u001b[39m\u001b[38;5;124mA-shape\u001b[39m\u001b[38;5;124m\"\u001b[39m,\u001b[43mA\u001b[49m\u001b[38;5;241;43m.\u001b[39;49m\u001b[43mshape\u001b[49m)\n\u001b[0;32m     18\u001b[0m b \u001b[38;5;241m=\u001b[39m matrix(np\u001b[38;5;241m.\u001b[39mzeros((\u001b[38;5;241m1\u001b[39m, \u001b[38;5;241m1\u001b[39m))) \n\u001b[0;32m     19\u001b[0m solvers\u001b[38;5;241m.\u001b[39moptions[\u001b[38;5;124m'\u001b[39m\u001b[38;5;124mshow_progress\u001b[39m\u001b[38;5;124m'\u001b[39m] \u001b[38;5;241m=\u001b[39m \u001b[38;5;28;01mFalse\u001b[39;00m\n",
      "\u001b[1;31mAttributeError\u001b[0m: 'cvxopt.base.matrix' object has no attribute 'shape'"
     ]
    }
   ],
   "source": [
    "from cvxopt import matrix, solvers\n",
    "# build K\n",
    "V = np.concatenate((X0.T, -X1.T), axis = 1)\n",
    "print(\"V=\")\n",
    "print(V.shape)\n",
    "K = matrix(V.T.dot(V)) # see definition of V, K near eq (8)\n",
    "print(\"K-shape\",K.size)\n",
    "\n",
    "p = matrix(-np.ones((2*N, 1))) # all-one vector \n",
    "print(\"p-shape\",p.size)\n",
    "# build A, b, G, h \n",
    "G = matrix(-np.eye(2*N)) # for all lambda_n >= 0\n",
    "print(\"G-shape\",G.size)\n",
    "h = matrix(np.zeros((2*N, 1)))\n",
    "print(\"h-shape\",h.size)\n",
    "A = matrix(y) # the equality constrain is actually y^T lambda = 0\n",
    "print(\"A-shape\",A.shape)\n",
    "b = matrix(np.zeros((1, 1))) \n",
    "solvers.options['show_progress'] = False\n",
    "sol = solvers.qp(K, p, G, h, A, b)\n",
    "\n",
    "l = np.array(sol['x'])\n",
    "print('lambda = ')\n",
    "print(l.T)"
   ]
  },
  {
   "cell_type": "code",
   "execution_count": 4,
   "metadata": {},
   "outputs": [
    {
     "name": "stdout",
     "output_type": "stream",
     "text": [
      "w =  [[-2.00984381  0.64068336]]\n",
      "b =  4.668560633868099\n"
     ]
    }
   ],
   "source": [
    "epsilon = 1e-6 # just a small number, greater than 1e-9\n",
    "S = np.where(l > epsilon)[0]\n",
    "\n",
    "VS = V[:, S]\n",
    "XS = X[:, S]\n",
    "yS = y[:, S]\n",
    "lS = l[S]\n",
    "# calculate w and b\n",
    "w = VS.dot(lS)\n",
    "b = np.mean(yS.T - w.T.dot(XS))\n",
    "\n",
    "print('w = ', w.T)\n",
    "print('b = ', b)"
   ]
  },
  {
   "cell_type": "code",
   "execution_count": 5,
   "metadata": {},
   "outputs": [
    {
     "name": "stdout",
     "output_type": "stream",
     "text": [
      "w =  [[-2.00971102  0.64194082]]\n",
      "b =  [4.66595309]\n"
     ]
    }
   ],
   "source": [
    "from sklearn.svm import SVC\n",
    "\n",
    "y1 = y.reshape((2*N,))\n",
    "X1 = X.T # each sample is one row\n",
    "clf = SVC(kernel = 'linear', C = 1e5) # just a big number \n",
    "\n",
    "clf.fit(X1, y1) \n",
    "\n",
    "w = clf.coef_\n",
    "b = clf.intercept_\n",
    "print('w = ', w)\n",
    "print('b = ', b)"
   ]
  },
  {
   "cell_type": "code",
   "execution_count": 10,
   "metadata": {},
   "outputs": [
    {
     "name": "stdout",
     "output_type": "stream",
     "text": [
      "[[2.37319011 1.71875981]\n",
      " [1.51261889 1.40558943]\n",
      " [2.4696794  2.02144973]\n",
      " [1.78736889 1.29380961]\n",
      " [1.81231157 1.56119497]\n",
      " [2.03717355 1.93397133]\n",
      " [1.53790057 1.87434722]\n",
      " [2.29312867 2.76537389]\n",
      " [1.38805594 1.86419379]\n",
      " [1.57279694 0.90707347]]\n"
     ]
    }
   ],
   "source": [
    "print(X0)"
   ]
  },
  {
   "cell_type": "code",
   "execution_count": 11,
   "metadata": {},
   "outputs": [
    {
     "name": "stdout",
     "output_type": "stream",
     "text": [
      "[[2.37319011 1.71875981]\n",
      " [1.51261889 1.40558943]\n",
      " [2.4696794  2.02144973]\n",
      " [1.78736889 1.29380961]\n",
      " [1.81231157 1.56119497]\n",
      " [2.03717355 1.93397133]\n",
      " [1.53790057 1.87434722]\n",
      " [2.29312867 2.76537389]\n",
      " [1.38805594 1.86419379]\n",
      " [1.57279694 0.90707347]\n",
      " [3.42746579 0.71254431]\n",
      " [4.24760864 2.39846497]\n",
      " [3.33595491 1.61731637]\n",
      " [3.69420104 1.94273986]\n",
      " [4.53897645 2.54957308]\n",
      " [3.3071994  0.19362396]\n",
      " [4.13924705 2.09561534]\n",
      " [4.47383468 2.41269466]\n",
      " [4.00512009 1.89290099]\n",
      " [4.28205624 1.79675607]]\n"
     ]
    }
   ],
   "source": [
    "print(X1)"
   ]
  }
 ],
 "metadata": {
  "kernelspec": {
   "display_name": "Python 3",
   "language": "python",
   "name": "python3"
  },
  "language_info": {
   "codemirror_mode": {
    "name": "ipython",
    "version": 3
   },
   "file_extension": ".py",
   "mimetype": "text/x-python",
   "name": "python",
   "nbconvert_exporter": "python",
   "pygments_lexer": "ipython3",
   "version": "3.10.11"
  }
 },
 "nbformat": 4,
 "nbformat_minor": 2
}
