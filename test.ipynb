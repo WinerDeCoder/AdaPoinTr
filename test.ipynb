{
 "cells": [
  {
   "cell_type": "code",
   "execution_count": 65,
   "metadata": {},
   "outputs": [],
   "source": [
    "import torch\n",
    "from torch import nn\n",
    "import torchvision\n",
    "import numpy as np"
   ]
  },
  {
   "cell_type": "code",
   "execution_count": 72,
   "metadata": {},
   "outputs": [
    {
     "name": "stdout",
     "output_type": "stream",
     "text": [
      "torch.Size([5, 2])\n"
     ]
    }
   ],
   "source": [
    "a = torch.tensor([[2,-1,1,4,-2],[3,-4,1,6,-5]], dtype = float)\n",
    "a = a.T\n",
    "print(a.shape)"
   ]
  },
  {
   "cell_type": "code",
   "execution_count": 58,
   "metadata": {},
   "outputs": [
    {
     "ename": "TypeError",
     "evalue": "Normalize.__init__() missing 1 required positional argument: 'std'",
     "output_type": "error",
     "traceback": [
      "\u001b[1;31m---------------------------------------------------------------------------\u001b[0m",
      "\u001b[1;31mTypeError\u001b[0m                                 Traceback (most recent call last)",
      "Input \u001b[1;32mIn [58]\u001b[0m, in \u001b[0;36m<cell line: 1>\u001b[1;34m()\u001b[0m\n\u001b[1;32m----> 1\u001b[0m b \u001b[38;5;241m=\u001b[39m \u001b[43mtorchvision\u001b[49m\u001b[38;5;241;43m.\u001b[39;49m\u001b[43mtransforms\u001b[49m\u001b[38;5;241;43m.\u001b[39;49m\u001b[43mNormalize\u001b[49m\u001b[43m(\u001b[49m\u001b[43ma\u001b[49m\u001b[43m)\u001b[49m\n\u001b[0;32m      2\u001b[0m \u001b[38;5;28mprint\u001b[39m(b)\n",
      "\u001b[1;31mTypeError\u001b[0m: Normalize.__init__() missing 1 required positional argument: 'std'"
     ]
    }
   ],
   "source": [
    "b = torchvision.transforms.Normalize(a)\n",
    "print(b)"
   ]
  },
  {
   "cell_type": "code",
   "execution_count": 73,
   "metadata": {},
   "outputs": [
    {
     "name": "stdout",
     "output_type": "stream",
     "text": [
      "(tensor([2.3875, 4.6583], dtype=torch.float64), tensor([0.8000, 0.2000], dtype=torch.float64))\n"
     ]
    }
   ],
   "source": [
    "mean_std = torch.std_mean(a,dim=0)\n",
    "print(mean_std)"
   ]
  },
  {
   "cell_type": "code",
   "execution_count": null,
   "metadata": {},
   "outputs": [],
   "source": []
  },
  {
   "cell_type": "code",
   "execution_count": 126,
   "metadata": {},
   "outputs": [
    {
     "name": "stdout",
     "output_type": "stream",
     "text": [
      "tensor([[ 0.5026,  0.6011],\n",
      "        [-0.7539, -0.9016],\n",
      "        [ 0.0838,  0.1717],\n",
      "        [ 1.3403,  1.2451],\n",
      "        [-1.1728, -1.1163]], dtype=torch.float64)\n",
      "tensor([[ 0.5026,  0.6011],\n",
      "        [-0.7539, -0.9016],\n",
      "        [ 0.0838,  0.1717],\n",
      "        [ 1.3403,  1.2451],\n",
      "        [-1.1728, -1.1163]], dtype=torch.float64)\n"
     ]
    }
   ],
   "source": [
    "c = (a-mean_std[1])/mean_std[0]\n",
    "print(c)\n",
    "tester = c\n",
    "print(tester)"
   ]
  },
  {
   "cell_type": "code",
   "execution_count": 127,
   "metadata": {},
   "outputs": [
    {
     "name": "stdout",
     "output_type": "stream",
     "text": [
      "tensor([[1.0000, 0.9936],\n",
      "        [0.9936, 1.0000]], dtype=torch.float64)\n"
     ]
    }
   ],
   "source": [
    "convdayroi = torch.matmul(tester.T,tester)/4\n",
    "print(convdayroi)"
   ]
  },
  {
   "cell_type": "code",
   "execution_count": 129,
   "metadata": {},
   "outputs": [
    {
     "name": "stdout",
     "output_type": "stream",
     "text": [
      "mean_0 tensor([-0.0558, -0.0429], dtype=torch.float64)\n",
      "mean_1 tensor([0.0838, 0.0644], dtype=torch.float64)\n",
      "sw_0 tensor([[4.0156, 3.9862],\n",
      "        [3.9862, 4.0092]], dtype=torch.float64)\n",
      "sw_1 tensor([[4.0351, 4.0012],\n",
      "        [4.0012, 4.0207]], dtype=torch.float64)\n",
      "scatter_within tensor([[ 9.4793, -9.4292],\n",
      "        [-9.4292,  9.5038]], dtype=torch.float64)\n"
     ]
    }
   ],
   "source": [
    "mean_0 = torch.mean(tester[0:3],dim =0) # 1 x 2\n",
    "print(\"mean_0\",mean_0)\n",
    "smean_0 = tester - mean_0\n",
    "sw_0 = torch.matmul(smean_0.T,smean_0)\n",
    "\n",
    "\n",
    "mean_1 = torch.mean(tester[3:5],dim=0) # 1 x 2\n",
    "print(\"mean_1\",mean_1)\n",
    "smean_1 = tester - mean_1\n",
    "sw_1 = torch.matmul(smean_1.T,smean_1)\n",
    "\n",
    "print(\"sw_0\",sw_0)\n",
    "print(\"sw_1\",sw_1)\n",
    "\n",
    "scatter_within = sw_0 + sw_1\n",
    "\n",
    "scatter_within = torch.inverse(scatter_within)\n",
    "print(\"scatter_within\", scatter_within)\n"
   ]
  },
  {
   "cell_type": "code",
   "execution_count": 130,
   "metadata": {},
   "outputs": [
    {
     "name": "stdout",
     "output_type": "stream",
     "text": [
      "torch.Size([1, 2])\n",
      "tensor([[-0.0558, -0.0429]], dtype=torch.float64)\n",
      "torch.Size([1, 2])\n"
     ]
    }
   ],
   "source": [
    "mean_0 = mean_0.view(1,-1)\n",
    "print(mean_0.shape)\n",
    "print(mean_0)\n",
    "\n",
    "mean_1 = mean_1.view(1,-1)\n",
    "print(mean_1.shape)"
   ]
  },
  {
   "cell_type": "code",
   "execution_count": 124,
   "metadata": {},
   "outputs": [
    {
     "name": "stdout",
     "output_type": "stream",
     "text": [
      "scatter_between tensor([[0.0234, 0.0180],\n",
      "        [0.0180, 0.0138]], dtype=torch.float64)\n"
     ]
    }
   ],
   "source": [
    "scatter_between = torch.matmul(mean_0.T,mean_0)*3 + torch.matmul(mean_1.T,mean_1)*2\n",
    "print(\"scatter_between\",scatter_between)"
   ]
  },
  {
   "cell_type": "code",
   "execution_count": 131,
   "metadata": {},
   "outputs": [
    {
     "name": "stdout",
     "output_type": "stream",
     "text": [
      "tensor([[ 0.2217, -0.1696],\n",
      "        [-0.1696,  0.1314]], dtype=torch.float64)\n"
     ]
    }
   ],
   "source": [
    "scatter_matrix = scatter_within*scatter_between\n",
    "print(scatter_matrix)"
   ]
  },
  {
   "cell_type": "code",
   "execution_count": 132,
   "metadata": {},
   "outputs": [
    {
     "name": "stdout",
     "output_type": "stream",
     "text": [
      "torch.return_types.linalg_svd(\n",
      "U=tensor([[-0.7929,  0.6093],\n",
      "        [ 0.6093,  0.7929]], dtype=torch.float64),\n",
      "S=tensor([0.3520, 0.0011], dtype=torch.float64),\n",
      "Vh=tensor([[-0.7929,  0.6093],\n",
      "        [ 0.6093,  0.7929]], dtype=torch.float64))\n"
     ]
    }
   ],
   "source": [
    "out = torch.linalg.svd(scatter_matrix)\n",
    "print(out)"
   ]
  },
  {
   "cell_type": "code",
   "execution_count": 59,
   "metadata": {},
   "outputs": [],
   "source": [
    "from sklearn.preprocessing import StandardScaler\n",
    "sc = StandardScaler()"
   ]
  },
  {
   "cell_type": "code",
   "execution_count": 83,
   "metadata": {},
   "outputs": [
    {
     "name": "stdout",
     "output_type": "stream",
     "text": [
      "[[ 0.56195149  0.67202151]\n",
      " [-0.84292723 -1.00803226]\n",
      " [ 0.09365858  0.19200614]\n",
      " [ 1.4985373   1.39204455]\n",
      " [-1.31122014 -1.24803994]]\n"
     ]
    }
   ],
   "source": [
    "x = np.array([[2,-1,1,4,-2],[3,-4,1,6,-5]]).T\n",
    "x = x.reshape(5,2)\n",
    "x_std = sc.fit_transform(x)\n",
    "print(x_std)"
   ]
  },
  {
   "cell_type": "code",
   "execution_count": 78,
   "metadata": {},
   "outputs": [
    {
     "name": "stdout",
     "output_type": "stream",
     "text": [
      "tensor([[ 0.5620,  0.6720],\n",
      "        [-0.8429, -1.0080],\n",
      "        [ 0.0937,  0.1920],\n",
      "        [ 1.4985,  1.3920],\n",
      "        [-1.3112, -1.2480]], dtype=torch.float64)\n"
     ]
    }
   ],
   "source": [
    "another_c = torch.tensor(x_std)\n",
    "print(another_c)"
   ]
  },
  {
   "cell_type": "code",
   "execution_count": 88,
   "metadata": {},
   "outputs": [
    {
     "name": "stdout",
     "output_type": "stream",
     "text": [
      "tensor([[1.0000, 0.9936],\n",
      "        [0.9936, 1.0000]], dtype=torch.float64)\n"
     ]
    }
   ],
   "source": [
    "\n",
    "cova = torch.cov(c.T)\n",
    "print(cova)"
   ]
  },
  {
   "cell_type": "code",
   "execution_count": 87,
   "metadata": {},
   "outputs": [
    {
     "name": "stdout",
     "output_type": "stream",
     "text": [
      "[[ 0.56195149  0.67202151]\n",
      " [-0.84292723 -1.00803226]\n",
      " [ 0.09365858  0.19200614]\n",
      " [ 1.4985373   1.39204455]\n",
      " [-1.31122014 -1.24803994]]\n",
      "[[1.25       1.24195253]\n",
      " [1.24195253 1.25      ]]\n"
     ]
    }
   ],
   "source": [
    "print(x_std)\n",
    "cov_mat = np.cov(x_std.T)\n",
    "print(cov_mat)"
   ]
  }
 ],
 "metadata": {
  "kernelspec": {
   "display_name": "Python 3",
   "language": "python",
   "name": "python3"
  },
  "language_info": {
   "codemirror_mode": {
    "name": "ipython",
    "version": 3
   },
   "file_extension": ".py",
   "mimetype": "text/x-python",
   "name": "python",
   "nbconvert_exporter": "python",
   "pygments_lexer": "ipython3",
   "version": "3.10.11"
  }
 },
 "nbformat": 4,
 "nbformat_minor": 2
}
